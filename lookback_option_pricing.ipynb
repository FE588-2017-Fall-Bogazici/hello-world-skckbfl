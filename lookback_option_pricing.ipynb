{
 "cells": [
  {
   "cell_type": "markdown",
   "metadata": {},
   "source": [
    "LOOKBACK OPTION PRICING"
   ]
  },
  {
   "cell_type": "code",
   "execution_count": 12,
   "metadata": {},
   "outputs": [
    {
     "name": "stdout",
     "output_type": "stream",
     "text": [
      "Max underlying price : 103.964941187\n",
      "Min underlying price : 96.554958353\n",
      "Strike price is 99.4216667559\n",
      "Call option price: 0.0\n",
      "Put option price: 12.6282930988\n"
     ]
    }
   ],
   "source": [
    "import numpy as np\n",
    "import math\n",
    "\n",
    "r = 0.05\n",
    "s0 = 100\n",
    "K = 110\n",
    "sigma = 0.1\n",
    "T=1\n",
    "N=100\n",
    "EPOCH=100\n",
    "\n",
    "C=0\n",
    "P=0\n",
    "wt=0\n",
    "stArray=[]\n",
    "\n",
    "for i in range(EPOCH):\n",
    "    for i in range(N):\n",
    "        wt= np.random.randn()*np.sqrt(T/N)\n",
    "        st = s0* np.exp((r-1/2*sigma**2)*(T/N)+sigma*wt)\n",
    "        stArray.append(st)\n",
    "\n",
    "    C += np.exp(-r*T)*max(0,(max(stArray)-K))\n",
    "    P += np.exp(-r*T)*max(0,(K-min(stArray)))\n",
    "\n",
    "callOptionPrice = C/EPOCH\n",
    "putOptionPrice = P/EPOCH\n",
    "\n",
    "print('Max underlying price :',max(stArray))\n",
    "print('Min underlying price :',min(stArray))\n",
    "print('Strike price is',st)\n",
    "print('Call option price:',callOptionPrice)\n",
    "print('Put option price:',putOptionPrice)"
   ]
  },
  {
   "cell_type": "markdown",
   "metadata": {},
   "source": [
    "FLOATING LOOKBACK OPTION PRICING"
   ]
  },
  {
   "cell_type": "code",
   "execution_count": 11,
   "metadata": {},
   "outputs": [
    {
     "name": "stdout",
     "output_type": "stream",
     "text": [
      "Last underlying price :  100.874314751\n",
      "Max underlying price : 104.198143359\n",
      "Min underlying price : 95.9903108781\n",
      "Strike price : 100.874314751\n",
      "Call option price: 3.27074393072\n",
      "Put option price: 3.55329856014\n"
     ]
    }
   ],
   "source": [
    "import numpy as np\n",
    "\n",
    "r = 0.05\n",
    "s0 = 100\n",
    "K = 110\n",
    "sigma = 0.1\n",
    "T=1\n",
    "N=100\n",
    "EPOCH=100\n",
    "\n",
    "C=0\n",
    "P=0\n",
    "wt=0\n",
    "st=0\n",
    "stArray=[]\n",
    "\n",
    "for i in range(EPOCH):\n",
    "    for i in range(N):\n",
    "        wt= np.random.randn()*np.sqrt(T/N)\n",
    "        st = s0* np.exp((r-1/2*sigma**2)*(T/N)+sigma*wt)\n",
    "        stArray.append(st)\n",
    "\n",
    "    C += np.exp(-r*T)*max(0,(st-min(stArray)))\n",
    "    P += np.exp(-r*T)*max(0,(max(stArray)-st))\n",
    "\n",
    "callOptionPrice = C/EPOCH\n",
    "putOptionPrice = P/EPOCH\n",
    "\n",
    "print('Last underlying price : ',st)\n",
    "print('Max underlying price :',max(stArray))\n",
    "print('Min underlying price :',min(stArray))\n",
    "print('Strike price :',st)\n",
    "print('Call option price:',callOptionPrice)\n",
    "print('Put option price:',putOptionPrice)"
   ]
  }
 ],
 "metadata": {
  "kernelspec": {
   "display_name": "Python 3",
   "language": "python",
   "name": "python3"
  },
  "language_info": {
   "codemirror_mode": {
    "name": "ipython",
    "version": 3
   },
   "file_extension": ".py",
   "mimetype": "text/x-python",
   "name": "python",
   "nbconvert_exporter": "python",
   "pygments_lexer": "ipython3",
   "version": "3.6.1"
  }
 },
 "nbformat": 4,
 "nbformat_minor": 2
}

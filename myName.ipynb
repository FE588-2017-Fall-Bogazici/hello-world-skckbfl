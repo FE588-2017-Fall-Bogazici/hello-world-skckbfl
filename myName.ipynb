{
 "cells": [
  {
   "cell_type": "code",
   "execution_count": 3,
   "metadata": {
    "scrolled": false
   },
   "outputs": [
    {
     "name": "stdout",
     "output_type": "stream",
     "text": [
      "Serkan Kaan Can KOYAK "
     ]
    }
   ],
   "source": [
    "name =['Serkan', 'Kaan', 'Can', 'KOYAK']\n",
    "\n",
    "for i in range (0,len(name)):\n",
    "    print (name[i], end=' ')"
   ]
  },
  {
   "cell_type": "code",
   "execution_count": 10,
   "metadata": {},
   "outputs": [
    {
     "name": "stdout",
     "output_type": "stream",
     "text": [
      "x: 0 y: -4\n",
      "x: 0.1 y: -3.69\n",
      "x: 0.2 y: -3.36\n",
      "x: 0.30000000000000004 y: -3.01\n",
      "x: 0.4 y: -2.6399999999999997\n",
      "x: 0.5 y: -2.25\n",
      "x: 0.6 y: -1.8400000000000003\n",
      "x: 0.7 y: -1.4100000000000006\n",
      "x: 0.7999999999999999 y: -0.96\n",
      "x: 0.8999999999999999 y: -0.4900000000000002\n"
     ]
    }
   ],
   "source": [
    "x = 0\n",
    "\n",
    "for i in range(0,10):\n",
    "    print ('x:',end=' ')\n",
    "    print (x, end=' ')\n",
    "    print ('y:',end=' ')\n",
    "    print (x**2+3*x-4)\n",
    "    x = x+0.1"
   ]
  },
  {
   "cell_type": "code",
   "execution_count": null,
   "metadata": {
    "collapsed": true
   },
   "outputs": [],
   "source": []
  }
 ],
 "metadata": {
  "kernelspec": {
   "display_name": "Python 3",
   "language": "python",
   "name": "python3"
  },
  "language_info": {
   "codemirror_mode": {
    "name": "ipython",
    "version": 3
   },
   "file_extension": ".py",
   "mimetype": "text/x-python",
   "name": "python",
   "nbconvert_exporter": "python",
   "pygments_lexer": "ipython3",
   "version": "3.6.1"
  }
 },
 "nbformat": 4,
 "nbformat_minor": 2
}

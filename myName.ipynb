{
 "cells": [
  {
   "cell_type": "code",
   "execution_count": 3,
   "metadata": {
    "scrolled": false
   },
   "outputs": [
    {
     "name": "stdout",
     "output_type": "stream",
     "text": [
      "Serkan Kaan Can KOYAK "
     ]
    }
   ],
   "source": [
    "name =['Serkan', 'Kaan', 'Can', 'KOYAK']\n",
    "\n",
    "for i in range (0,len(name)):\n",
    "    print (name[i], end=' ')"
   ]
  },
  {
   "cell_type": "code",
   "execution_count": 4,
   "metadata": {},
   "outputs": [
    {
     "name": "stdout",
     "output_type": "stream",
     "text": [
      "-4\n",
      "-3.69\n",
      "-3.36\n",
      "-3.01\n",
      "-2.6399999999999997\n",
      "-2.25\n",
      "-1.8400000000000003\n",
      "-1.4100000000000006\n",
      "-0.96\n",
      "-0.4900000000000002\n"
     ]
    }
   ],
   "source": [
    "x = 0\n",
    "\n",
    "for i in range(0,10):\n",
    "    print (x**2+3*x-4)\n",
    "    x = x+0.1"
   ]
  },
  {
   "cell_type": "code",
   "execution_count": null,
   "metadata": {
    "collapsed": true
   },
   "outputs": [],
   "source": []
  }
 ],
 "metadata": {
  "kernelspec": {
   "display_name": "Python 3",
   "language": "python",
   "name": "python3"
  },
  "language_info": {
   "codemirror_mode": {
    "name": "ipython",
    "version": 3
   },
   "file_extension": ".py",
   "mimetype": "text/x-python",
   "name": "python",
   "nbconvert_exporter": "python",
   "pygments_lexer": "ipython3",
   "version": "3.6.1"
  }
 },
 "nbformat": 4,
 "nbformat_minor": 2
}

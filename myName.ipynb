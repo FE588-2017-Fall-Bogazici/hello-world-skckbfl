{
 "cells": [
  {
   "cell_type": "code",
   "execution_count": 3,
   "metadata": {
    "scrolled": false
   },
   "outputs": [
    {
     "name": "stdout",
     "output_type": "stream",
     "text": [
      "Serkan Kaan Can KOYAK "
     ]
    }
   ],
   "source": [
    "name =['Serkan', 'Kaan', 'Can', 'KOYAK']\n",
    "\n",
    "for i in range (0,len(name)):\n",
    "    print (name[i], end=' ')"
   ]
  },
  {
   "cell_type": "code",
   "execution_count": 11,
   "metadata": {},
   "outputs": [
    {
     "name": "stdout",
     "output_type": "stream",
     "text": [
      "0.10000 -3.69000\n",
      "0.30000 -3.01000\n",
      "0.50000 -2.25000\n",
      "0.70000 -1.41000\n",
      "0.90000 -0.49000\n",
      "1.10000 0.51000\n",
      "1.30000 1.59000\n",
      "1.50000 2.75000\n",
      "1.70000 3.99000\n",
      "1.90000 5.31000\n"
     ]
    }
   ],
   "source": [
    "x = 0\n",
    "\n",
    "for i in range(0,10):\n",
    "    x += 0.1\n",
    "    y = x**2 + x*3 - 4\n",
    "    print (\"%1.5f\" % x, \"%1.5f\" %y)\n",
    "    x = x+0.1"
   ]
  },
  {
   "cell_type": "markdown",
   "metadata": {
    "collapsed": true
   },
   "source": [
    "Bisection: finding root"
   ]
  },
  {
   "cell_type": "code",
   "execution_count": 48,
   "metadata": {},
   "outputs": [
    {
     "name": "stdout",
     "output_type": "stream",
     "text": [
      "1.4142135623696959\n"
     ]
    }
   ],
   "source": [
    "l = 0\n",
    "r = 2\n",
    "\n",
    "for i in range (0,1000000):\n",
    "    mid = (l+r)/2\n",
    "    if (l**2-2)*(mid**2-2)>0:\n",
    "        l=mid\n",
    "    else:\n",
    "        r=mid\n",
    "    if (r-l)<0.00000000001:\n",
    "        print(l)\n",
    "        break\n",
    "\n"
   ]
  },
  {
   "cell_type": "markdown",
   "metadata": {},
   "source": [
    "OPTION PRICING PLAIN VANILLA"
   ]
  },
  {
   "cell_type": "code",
   "execution_count": 163,
   "metadata": {},
   "outputs": [
    {
     "name": "stdout",
     "output_type": "stream",
     "text": [
      "strike price is 92.9835925146\n",
      "call option price: 2.14677818832\n",
      "put option price: 6.78187423122\n"
     ]
    }
   ],
   "source": [
    "import numpy as np\n",
    "import math\n",
    "\n",
    "r = 0.05\n",
    "s0 = 100\n",
    "K = 110\n",
    "sigma = 0.1\n",
    "T=1\n",
    "N=100000\n",
    "\n",
    "C=0\n",
    "P=0\n",
    "\n",
    "for i in range(N):\n",
    "    wt= np.random.randn()\n",
    "    st = s0* np.exp((r-1/2*sigma**2)*T+sigma*wt)\n",
    "    C += np.exp(-r*T)*max(0,(st-K))\n",
    "    P += np.exp(-r*T)*max(0,(K-st))\n",
    "\n",
    "callOptionPrice = C/N\n",
    "putOptionPrice = P/N\n",
    "\n",
    "print('strike price is',st)\n",
    "print('call option price:',callOptionPrice)\n",
    "print('put option price:',putOptionPrice)\n"
   ]
  },
  {
   "cell_type": "markdown",
   "metadata": {},
   "source": [
    "ASIAN OPTION PRICING"
   ]
  },
  {
   "cell_type": "code",
   "execution_count": 204,
   "metadata": {},
   "outputs": [
    {
     "name": "stdout",
     "output_type": "stream",
     "text": [
      "strike price is 99.7090529911\n",
      "call option price: 0.0\n",
      "put option price: 9.45591019405\n"
     ]
    }
   ],
   "source": [
    "import numpy as np\n",
    "import math\n",
    "\n",
    "r = 0.05\n",
    "s0 = 100\n",
    "K = 110\n",
    "sigma = 0.1\n",
    "T=1\n",
    "N=100\n",
    "EPOCH=100\n",
    "\n",
    "C=0\n",
    "P=0\n",
    "wt=0\n",
    "s_bar=0\n",
    "\n",
    "for i in range(EPOCH):\n",
    "    for i in range(N):\n",
    "        wt= np.random.randn()*np.sqrt(T/N)\n",
    "        st = s0* np.exp((r-1/2*sigma**2)*(T/N)+sigma*wt)\n",
    "        s_bar =+ st\n",
    "        \n",
    "    s_bar/=N\n",
    "    \n",
    "    C += np.exp(-r*T)*max(0,(st-K))\n",
    "    P += np.exp(-r*T)*max(0,(K-st))\n",
    "\n",
    "callOptionPrice = C/EPOCH\n",
    "putOptionPrice = P/EPOCH\n",
    "\n",
    "print('strike price is',st)\n",
    "print('call option price:',callOptionPrice)\n",
    "print('put option price:',putOptionPrice)\n"
   ]
  },
  {
   "cell_type": "markdown",
   "metadata": {},
   "source": [
    "LOOKBACK OPTION PRICING"
   ]
  },
  {
   "cell_type": "code",
   "execution_count": 209,
   "metadata": {},
   "outputs": [
    {
     "name": "stdout",
     "output_type": "stream",
     "text": [
      "max price : 103.981948606\n",
      "min price : 96.1846088344\n",
      "strike price is 101.548186317\n",
      "call option price: 0.0\n",
      "put option price: 0.131416065877\n"
     ]
    }
   ],
   "source": [
    "import numpy as np\n",
    "import math\n",
    "\n",
    "r = 0.05\n",
    "s0 = 100\n",
    "K = 110\n",
    "sigma = 0.1\n",
    "T=1\n",
    "N=100\n",
    "EPOCH=100\n",
    "\n",
    "C=0\n",
    "P=0\n",
    "wt=0\n",
    "stArray=[]\n",
    "\n",
    "for i in range(EPOCH):\n",
    "    for i in range(N):\n",
    "        wt= np.random.randn()*np.sqrt(T/N)\n",
    "        st = s0* np.exp((r-1/2*sigma**2)*(T/N)+sigma*wt)\n",
    "        stArray.append(st)\n",
    "\n",
    "    C += np.exp(-r*T)*max(0,(max(stArray)-K))\n",
    "    P += np.exp(-r*T)*max(0,(K-min(stArray)))\n",
    "\n",
    "callOptionPrice = C/EPOCH\n",
    "putOptionPrice = P/EPOCH\n",
    "\n",
    "print('max price :',max(stArray))\n",
    "print('min price :',min(stArray))\n",
    "print('strike price is',st)\n",
    "print('call option price:',callOptionPrice)\n",
    "print('put option price:',putOptionPrice)"
   ]
  },
  {
   "cell_type": "markdown",
   "metadata": {},
   "source": [
    "FLOATING LOOKBACK OPTION PRICING"
   ]
  },
  {
   "cell_type": "code",
   "execution_count": 211,
   "metadata": {},
   "outputs": [
    {
     "name": "stdout",
     "output_type": "stream",
     "text": [
      "st :  101.412636958\n",
      "max price : 103.696345027\n",
      "min price : 96.5783824202\n",
      "strike price is 101.412636958\n",
      "call option price: 3.27846801762\n",
      "put option price: 3.32458798544\n"
     ]
    }
   ],
   "source": [
    "import numpy as np\n",
    "import math\n",
    "\n",
    "r = 0.05\n",
    "s0 = 100\n",
    "K = 110\n",
    "sigma = 0.1\n",
    "T=1\n",
    "N=100\n",
    "EPOCH=100\n",
    "\n",
    "C=0\n",
    "P=0\n",
    "wt=0\n",
    "st=0\n",
    "stArray=[]\n",
    "\n",
    "for i in range(EPOCH):\n",
    "    for i in range(N):\n",
    "        wt= np.random.randn()*np.sqrt(T/N)\n",
    "        st = s0* np.exp((r-1/2*sigma**2)*(T/N)+sigma*wt)\n",
    "        stArray.append(st)\n",
    "\n",
    "    C += np.exp(-r*T)*max(0,(st-min(stArray)))\n",
    "    P += np.exp(-r*T)*max(0,(max(stArray)-st))\n",
    "\n",
    "callOptionPrice = C/EPOCH\n",
    "putOptionPrice = P/EPOCH\n",
    "\n",
    "print('st : ',st)\n",
    "print('max price :',max(stArray))\n",
    "print('min price :',min(stArray))\n",
    "print('strike price is',st)\n",
    "print('call option price:',callOptionPrice)\n",
    "print('put option price:',putOptionPrice)"
   ]
  },
  {
   "cell_type": "markdown",
   "metadata": {},
   "source": [
    "DERIVE A LIST WITH EVEN NUMBERS ONLY FROM A GIVEN LIST"
   ]
  },
  {
   "cell_type": "code",
   "execution_count": 241,
   "metadata": {},
   "outputs": [
    {
     "name": "stdout",
     "output_type": "stream",
     "text": [
      "[0, 2, 4, 6, 8, 3, 5, 7]\n",
      "[0, 2, 4, 6, 8, 3, 5, 7]\n",
      "[7, 5, 3, 0, 2, 4, 6, 8]\n"
     ]
    }
   ],
   "source": [
    "L = [0,2,3,4,5,6,7,8]\n",
    "newList=[]\n",
    "for i in range (len(L)):\n",
    "    if (L[i]%2==0):\n",
    "        newList.append(L[i])\n",
    "for i in range (len(L)):\n",
    "    if (L[i]%2==1):\n",
    "        newList.append(L[i])\n",
    "print(newList)\n",
    "\n",
    "def isEven(x):\n",
    "    return x%2==0\n",
    "def isOdd(x):\n",
    "    return x%2==1\n",
    "    \n",
    "L_even = list(filter(isEven,L))\n",
    "L_odd = list(filter(isOdd,L))\n",
    "\n",
    "print(L_even+L_odd)"
   ]
  },
  {
   "cell_type": "code",
   "execution_count": 243,
   "metadata": {},
   "outputs": [
    {
     "name": "stdout",
     "output_type": "stream",
     "text": [
      "[7, 5, 3, 0, 2, 4, 6, 8]\n"
     ]
    }
   ],
   "source": [
    "#Odds to left, evens to right\n",
    "S=[]\n",
    "for x in L:\n",
    "    if x%2==0:\n",
    "        S.append(x)\n",
    "    else:\n",
    "        S.insert(0,x)\n",
    "print(S)"
   ]
  },
  {
   "cell_type": "code",
   "execution_count": 245,
   "metadata": {},
   "outputs": [
    {
     "data": {
      "text/plain": [
       "[0, 2, 4, 6, 8, 3, 5, 7]"
      ]
     },
     "execution_count": 245,
     "metadata": {},
     "output_type": "execute_result"
    }
   ],
   "source": [
    "list(filter(isEven,L))+list(filter(isOdd,L))"
   ]
  },
  {
   "cell_type": "code",
   "execution_count": 247,
   "metadata": {},
   "outputs": [
    {
     "data": {
      "text/plain": [
       "array([0, 2, 4, 6, 8])"
      ]
     },
     "execution_count": 247,
     "metadata": {},
     "output_type": "execute_result"
    }
   ],
   "source": [
    "U = np.array(L)\n",
    "U[U%2==0]"
   ]
  },
  {
   "cell_type": "code",
   "execution_count": 267,
   "metadata": {},
   "outputs": [
    {
     "data": {
      "text/plain": [
       "4.0"
      ]
     },
     "execution_count": 267,
     "metadata": {},
     "output_type": "execute_result"
    }
   ],
   "source": [
    "from functools import reduce\n",
    "\n",
    "reduce(lambda x,y: y+x,filter(isEven,L))/len(list(filter(isEven,L)))"
   ]
  },
  {
   "cell_type": "code",
   "execution_count": 269,
   "metadata": {},
   "outputs": [
    {
     "data": {
      "text/plain": [
       "[0, 4, 9, 16, 25, 36, 49, 64]"
      ]
     },
     "execution_count": 269,
     "metadata": {},
     "output_type": "execute_result"
    }
   ],
   "source": [
    "list(map(lambda x: x**2, L))"
   ]
  }
 ],
 "metadata": {
  "kernelspec": {
   "display_name": "Python 3",
   "language": "python",
   "name": "python3"
  },
  "language_info": {
   "codemirror_mode": {
    "name": "ipython",
    "version": 3
   },
   "file_extension": ".py",
   "mimetype": "text/x-python",
   "name": "python",
   "nbconvert_exporter": "python",
   "pygments_lexer": "ipython3",
   "version": "3.6.1"
  }
 },
 "nbformat": 4,
 "nbformat_minor": 2
}

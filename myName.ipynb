{
 "cells": [
  {
   "cell_type": "code",
   "execution_count": 3,
   "metadata": {
    "scrolled": false
   },
   "outputs": [
    {
     "name": "stdout",
     "output_type": "stream",
     "text": [
      "Serkan Kaan Can KOYAK "
     ]
    }
   ],
   "source": [
    "name =['Serkan', 'Kaan', 'Can', 'KOYAK']\n",
    "\n",
    "for i in range (0,len(name)):\n",
    "    print (name[i], end=' ')"
   ]
  },
  {
   "cell_type": "code",
   "execution_count": 11,
   "metadata": {},
   "outputs": [
    {
     "name": "stdout",
     "output_type": "stream",
     "text": [
      "0.10000 -3.69000\n",
      "0.30000 -3.01000\n",
      "0.50000 -2.25000\n",
      "0.70000 -1.41000\n",
      "0.90000 -0.49000\n",
      "1.10000 0.51000\n",
      "1.30000 1.59000\n",
      "1.50000 2.75000\n",
      "1.70000 3.99000\n",
      "1.90000 5.31000\n"
     ]
    }
   ],
   "source": [
    "x = 0\n",
    "\n",
    "for i in range(0,10):\n",
    "    x += 0.1\n",
    "    y = x**2 + x*3 - 4\n",
    "    print (\"%1.5f\" % x, \"%1.5f\" %y)\n",
    "    x = x+0.1"
   ]
  },
  {
   "cell_type": "code",
   "execution_count": null,
   "metadata": {
    "collapsed": true
   },
   "outputs": [],
   "source": []
  }
 ],
 "metadata": {
  "kernelspec": {
   "display_name": "Python 3",
   "language": "python",
   "name": "python3"
  },
  "language_info": {
   "codemirror_mode": {
    "name": "ipython",
    "version": 3
   },
   "file_extension": ".py",
   "mimetype": "text/x-python",
   "name": "python",
   "nbconvert_exporter": "python",
   "pygments_lexer": "ipython3",
   "version": "3.6.1"
  }
 },
 "nbformat": 4,
 "nbformat_minor": 2
}
